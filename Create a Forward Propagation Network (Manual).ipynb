{
    "cells": [
        {
            "cell_type": "markdown",
            "metadata": {
                "collapsed": true
            },
            "source": "# Create a Forward Propagation Network"
        },
        {
            "cell_type": "code",
            "execution_count": 1,
            "metadata": {},
            "outputs": [],
            "source": "import numpy as np # import Numpy library to generate \n\nweights = np.around(np.random.uniform(size=6), decimals=2) # initialize the weights\nbiases = np.around(np.random.uniform(size=3), decimals=2) # initialize the biases"
        },
        {
            "cell_type": "code",
            "execution_count": 2,
            "metadata": {},
            "outputs": [
                {
                    "name": "stdout",
                    "output_type": "stream",
                    "text": "[0.9  0.07 0.12 0.29 0.99 0.17]\n[0.21 0.4  0.79]\n"
                }
            ],
            "source": "print(weights)\nprint(biases)"
        },
        {
            "cell_type": "code",
            "execution_count": 3,
            "metadata": {},
            "outputs": [
                {
                    "name": "stdout",
                    "output_type": "stream",
                    "text": "x1 is 0.5 and x2 is 0.85\n"
                }
            ],
            "source": "x_1 = 0.5 # input 1\nx_2 = 0.85 # input 2\n\nprint('x1 is {} and x2 is {}'.format(x_1, x_2))"
        },
        {
            "cell_type": "code",
            "execution_count": 4,
            "metadata": {},
            "outputs": [
                {
                    "name": "stdout",
                    "output_type": "stream",
                    "text": "The weighted sum of the inputs at the first node in the hidden layer is 0.7195\n"
                }
            ],
            "source": "z_11 = x_1 * weights[0] + x_2 * weights[1] + biases[0]\n\nprint('The weighted sum of the inputs at the First node in the hidden layer is {}'.format(z_11))"
        },
        {
            "cell_type": "code",
            "execution_count": 5,
            "metadata": {},
            "outputs": [
                {
                    "name": "stdout",
                    "output_type": "stream",
                    "text": "The weighted sum of the inputs at the Second node in the hidden layer is 0.7065\n"
                }
            ],
            "source": "z_12 = x_1 * weights[2] + x_2 * weights[3] + biases[1]\nprint('The weighted sum of the inputs at the Second node in the hidden layer is {}'.format(z_12))"
        },
        {
            "cell_type": "code",
            "execution_count": 6,
            "metadata": {},
            "outputs": [
                {
                    "name": "stdout",
                    "output_type": "stream",
                    "text": "The activation of the first node in the hidden layer is 0.6725\n"
                }
            ],
            "source": "a_11 = 1.0 / (1.0 + np.exp(-z_11))\n\nprint('The activation of the first node in the hidden layer is {}'.format(np.around(a_11, decimals=4)))"
        },
        {
            "cell_type": "code",
            "execution_count": 7,
            "metadata": {},
            "outputs": [
                {
                    "name": "stdout",
                    "output_type": "stream",
                    "text": "The activation of the second node in the hidden layer is 0.6696\n"
                }
            ],
            "source": "a_12 = 1.0 / (1.0 + np.exp(-z_12))\nprint('The activation of the second node in the hidden layer is {}'.format(np.around(a_12, decimals=4)))"
        },
        {
            "cell_type": "code",
            "execution_count": 8,
            "metadata": {},
            "outputs": [
                {
                    "name": "stdout",
                    "output_type": "stream",
                    "text": "The weighted sum of the inputs at the node in the output layer is 1.5696\n"
                }
            ],
            "source": "z_2 = a_11 * weights[4] + a_12 * weights[5] + biases[2]\nprint('The weighted sum of the inputs at the node in the output layer is {}'.format(np.around(z_2, decimals=4)))"
        },
        {
            "cell_type": "code",
            "execution_count": 9,
            "metadata": {},
            "outputs": [
                {
                    "name": "stdout",
                    "output_type": "stream",
                    "text": "The output of the network for x1 = 0.5 and x2 = 0.85 is 0.8277\n"
                }
            ],
            "source": "a_2 = 1.0 / (1.0 + np.exp(-z_2))\nprint('The output of the network for x1 = 0.5 and x2 = 0.85 is {}'.format(np.around(a_2, decimals=4)))"
        },
        {
            "cell_type": "markdown",
            "metadata": {},
            "source": "## Initialize a Network"
        },
        {
            "cell_type": "code",
            "execution_count": 10,
            "metadata": {},
            "outputs": [],
            "source": "n = 2 # number of inputs\nnum_hidden_layers = 2 # number of hidden layers\nm = [2, 2] # number of nodes in each hidden layer\nnum_nodes_output = 1 # number of nodes in the output layer"
        },
        {
            "cell_type": "code",
            "execution_count": 11,
            "metadata": {},
            "outputs": [
                {
                    "name": "stdout",
                    "output_type": "stream",
                    "text": "{'layer_1': {'node_1': {'weights': array([0.49, 0.47]), 'bias': array([0.75])}, 'node_2': {'weights': array([0.25, 0.34]), 'bias': array([0.66])}}, 'layer_2': {'node_1': {'weights': array([0.33, 0.04]), 'bias': array([0.98])}, 'node_2': {'weights': array([0.01, 0.56]), 'bias': array([0.21])}}, 'output': {'node_1': {'weights': array([0.93, 0.15]), 'bias': array([0.3])}}}\n"
                }
            ],
            "source": "import numpy as np # import the Numpy library\n\nnum_nodes_previous = n # number of nodes in the previous layer\n\nnetwork = {} # initialize network an an empty dictionary\n\n# loop through each layer and randomly initialize the weights and biases associated with each node\n# notice how we are adding 1 to the number of hidden layers in order to include the output layer\nfor layer in range(num_hidden_layers + 1): \n    \n    # determine name of layer\n    if layer == num_hidden_layers:\n        layer_name = 'output'\n        num_nodes = num_nodes_output\n    else:\n        layer_name = 'layer_{}'.format(layer + 1)\n        num_nodes = m[layer]\n    \n    # initialize weights and biases associated with each node in the current layer\n    network[layer_name] = {}\n    for node in range(num_nodes):\n        node_name = 'node_{}'.format(node+1)\n        network[layer_name][node_name] = {\n            'weights': np.around(np.random.uniform(size=num_nodes_previous), decimals=2),\n            'bias': np.around(np.random.uniform(size=1), decimals=2),\n        }\n    \n    num_nodes_previous = num_nodes\n    \nprint(network) # print network"
        },
        {
            "cell_type": "code",
            "execution_count": 12,
            "metadata": {},
            "outputs": [],
            "source": "def initialize_network(num_inputs, num_hidden_layers, num_nodes_hidden, num_nodes_output):\n    \n    num_nodes_previous = num_inputs # number of nodes in the previous layer\n\n    network = {}\n    \n    # loop through each layer and randomly initialize the weights and biases associated with each layer\n    for layer in range(num_hidden_layers + 1):\n        \n        if layer == num_hidden_layers:\n            layer_name = 'output' # name last layer in the network output\n            num_nodes = num_nodes_output\n        else:\n            layer_name = 'layer_{}'.format(layer + 1) # otherwise give the layer a number\n            num_nodes = num_nodes_hidden[layer] \n        \n        # initialize weights and bias for each node\n        network[layer_name] = {}\n        for node in range(num_nodes):\n            node_name = 'node_{}'.format(node+1)\n            network[layer_name][node_name] = {\n                'weights': np.around(np.random.uniform(size=num_nodes_previous), decimals=2),\n                'bias': np.around(np.random.uniform(size=1), decimals=2),\n            }\n    \n        num_nodes_previous = num_nodes\n\n    return network # return the network"
        },
        {
            "cell_type": "code",
            "execution_count": 13,
            "metadata": {},
            "outputs": [],
            "source": "small_network = initialize_network(5, 3, [3, 2, 3], 1)"
        },
        {
            "cell_type": "markdown",
            "metadata": {},
            "source": "## Compute Weighted Sum at Each Node"
        },
        {
            "cell_type": "code",
            "execution_count": 14,
            "metadata": {},
            "outputs": [],
            "source": "def compute_weighted_sum(inputs, weights, bias):\n    return np.sum(inputs * weights) + bias"
        },
        {
            "cell_type": "code",
            "execution_count": 15,
            "metadata": {},
            "outputs": [
                {
                    "name": "stdout",
                    "output_type": "stream",
                    "text": "The inputs to the network are [0.15 0.74 0.26 0.53 0.01]\n"
                }
            ],
            "source": "from random import seed\nimport numpy as np\n\nnp.random.seed(12)\ninputs = np.around(np.random.uniform(size=5), decimals=2)\n\nprint('The inputs to the network are {}'.format(inputs))"
        },
        {
            "cell_type": "code",
            "execution_count": 16,
            "metadata": {},
            "outputs": [
                {
                    "name": "stdout",
                    "output_type": "stream",
                    "text": "The weighted sum at the first node in the hidden layer is 2.1402\n"
                }
            ],
            "source": "node_weights = small_network['layer_1']['node_1']['weights']\nnode_bias = small_network['layer_1']['node_1']['bias']\n\nweighted_sum = compute_weighted_sum(inputs, node_weights, node_bias)\nprint('The weighted sum at the first node in the hidden layer is {}'.format(np.around(weighted_sum[0], decimals=4)))\n"
        },
        {
            "cell_type": "markdown",
            "metadata": {},
            "source": "## Compute Node Activation"
        },
        {
            "cell_type": "code",
            "execution_count": 17,
            "metadata": {},
            "outputs": [],
            "source": "def node_activation(weighted_sum):\n    return 1.0 / (1.0 + np.exp(-1 * weighted_sum))"
        },
        {
            "cell_type": "code",
            "execution_count": 18,
            "metadata": {},
            "outputs": [
                {
                    "name": "stdout",
                    "output_type": "stream",
                    "text": "The output of the first node in the hidden layer is 0.8947\n"
                }
            ],
            "source": "node_output  = node_activation(compute_weighted_sum(inputs, node_weights, node_bias))\nprint('The output of the first node in the hidden layer is {}'.format(np.around(node_output[0], decimals=4)))"
        },
        {
            "cell_type": "markdown",
            "metadata": {},
            "source": "## Forward Propagation"
        },
        {
            "cell_type": "code",
            "execution_count": 19,
            "metadata": {},
            "outputs": [],
            "source": "def forward_propagate(network, inputs):\n    \n    layer_inputs = list(inputs) # start with the input layer as the input to the first hidden layer\n    \n    for layer in network:\n        \n        layer_data = network[layer]\n        \n        layer_outputs = [] \n        for layer_node in layer_data:\n        \n            node_data = layer_data[layer_node]\n        \n            # compute the weighted sum and the output of each node at the same time \n            node_output = node_activation(compute_weighted_sum(layer_inputs, node_data['weights'], node_data['bias']))\n            layer_outputs.append(np.around(node_output[0], decimals=4))\n            \n        if layer != 'output':\n            print('The outputs of the nodes in hidden layer number {} is {}'.format(layer.split('_')[1], layer_outputs))\n    \n        layer_inputs = layer_outputs # set the output of this layer to be the input to next layer\n\n    network_predictions = layer_outputs\n    return network_predictions"
        },
        {
            "cell_type": "code",
            "execution_count": 20,
            "metadata": {},
            "outputs": [
                {
                    "name": "stdout",
                    "output_type": "stream",
                    "text": "The outputs of the nodes in hidden layer number 1 is [0.8947, 0.7354, 0.8297]\nThe outputs of the nodes in hidden layer number 2 is [0.7739, 0.816]\nThe outputs of the nodes in hidden layer number 3 is [0.7681, 0.7812, 0.7263]\nThe predicted value by the network for the given input is 0.9057\n"
                }
            ],
            "source": "predictions = forward_propagate(small_network, inputs)\nprint('The predicted value by the network for the given input is {}'.format(np.around(predictions[0], decimals=4)))"
        },
        {
            "cell_type": "code",
            "execution_count": 21,
            "metadata": {},
            "outputs": [],
            "source": "my_network = initialize_network(5, 3, [2, 3, 2], 3)"
        },
        {
            "cell_type": "code",
            "execution_count": 22,
            "metadata": {},
            "outputs": [],
            "source": "inputs = np.around(np.random.uniform(size=5), decimals=2)"
        },
        {
            "cell_type": "code",
            "execution_count": 23,
            "metadata": {},
            "outputs": [
                {
                    "name": "stdout",
                    "output_type": "stream",
                    "text": "The outputs of the nodes in hidden layer number 1 is [0.8857, 0.8889]\nThe outputs of the nodes in hidden layer number 2 is [0.7822, 0.6965, 0.7411]\nThe outputs of the nodes in hidden layer number 3 is [0.868, 0.881]\nThe predicted values by the network for the given input are [0.8952, 0.8222, 0.8035]\n"
                }
            ],
            "source": "predictions = forward_propagate(my_network, inputs)\nprint('The predicted values by the network for the given input are {}'.format(predictions))"
        },
        {
            "cell_type": "code",
            "execution_count": null,
            "metadata": {},
            "outputs": [],
            "source": ""
        }
    ],
    "metadata": {
        "kernelspec": {
            "display_name": "Python 3.6",
            "language": "python",
            "name": "python3"
        },
        "language_info": {
            "codemirror_mode": {
                "name": "ipython",
                "version": 3
            },
            "file_extension": ".py",
            "mimetype": "text/x-python",
            "name": "python",
            "nbconvert_exporter": "python",
            "pygments_lexer": "ipython3",
            "version": "3.6.9"
        }
    },
    "nbformat": 4,
    "nbformat_minor": 1
}