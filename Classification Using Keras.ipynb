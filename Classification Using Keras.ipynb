{
    "cells": [
        {
            "cell_type": "markdown",
            "metadata": {},
            "source": "# Classification Using Keras"
        },
        {
            "cell_type": "markdown",
            "metadata": {},
            "source": "## Reading Data and ETL"
        },
        {
            "cell_type": "code",
            "execution_count": 1,
            "metadata": {},
            "outputs": [
                {
                    "name": "stderr",
                    "output_type": "stream",
                    "text": "Using TensorFlow backend.\n"
                }
            ],
            "source": "import keras\n\nfrom keras.models import Sequential\nfrom keras.layers import Dense\nfrom keras.utils import to_categorical"
        },
        {
            "cell_type": "code",
            "execution_count": 2,
            "metadata": {},
            "outputs": [],
            "source": "import matplotlib.pyplot as plt"
        },
        {
            "cell_type": "code",
            "execution_count": 3,
            "metadata": {},
            "outputs": [
                {
                    "name": "stdout",
                    "output_type": "stream",
                    "text": "Downloading data from https://s3.amazonaws.com/img-datasets/mnist.npz\n11493376/11490434 [==============================] - 0s 0us/step\n"
                }
            ],
            "source": "# import the data\nfrom keras.datasets import mnist\n\n# read the data\n(X_train, y_train), (X_test, y_test) = mnist.load_data()"
        },
        {
            "cell_type": "code",
            "execution_count": 4,
            "metadata": {},
            "outputs": [
                {
                    "data": {
                        "text/plain": "(60000, 28, 28)"
                    },
                    "execution_count": 4,
                    "metadata": {},
                    "output_type": "execute_result"
                }
            ],
            "source": "X_train.shape"
        },
        {
            "cell_type": "code",
            "execution_count": 5,
            "metadata": {},
            "outputs": [
                {
                    "data": {
                        "text/plain": "<matplotlib.image.AxesImage at 0x7f99b6078518>"
                    },
                    "execution_count": 5,
                    "metadata": {},
                    "output_type": "execute_result"
                },
                {
                    "data": {
                        "image/png": "[encoded data removed]",
                        "text/plain": "<Figure size 432x288 with 1 Axes>"
                    },
                    "metadata": {
                        "needs_background": "light"
                    },
                    "output_type": "display_data"
                }
            ],
            "source": "plt.imshow(X_train[0])"
        },
        {
            "cell_type": "code",
            "execution_count": 6,
            "metadata": {},
            "outputs": [],
            "source": "# flatten images into one-dimensional vector\n\nnum_pixels = X_train.shape[1] * X_train.shape[2] # find size of one-dimensional vector\n\nX_train = X_train.reshape(X_train.shape[0], num_pixels).astype('float32') # flatten training images\nX_test = X_test.reshape(X_test.shape[0], num_pixels).astype('float32') # flatten test images"
        },
        {
            "cell_type": "code",
            "execution_count": 7,
            "metadata": {},
            "outputs": [],
            "source": "# normalize inputs from 0-255 to 0-1\nX_train = X_train / 255\nX_test = X_test / 255"
        },
        {
            "cell_type": "code",
            "execution_count": 8,
            "metadata": {},
            "outputs": [
                {
                    "name": "stdout",
                    "output_type": "stream",
                    "text": "10\n"
                }
            ],
            "source": "# one hot encode outputs\ny_train = to_categorical(y_train)\ny_test = to_categorical(y_test)\n\nnum_classes = y_test.shape[1]\nprint(num_classes)"
        },
        {
            "cell_type": "markdown",
            "metadata": {},
            "source": "# Build a Neural Network"
        },
        {
            "cell_type": "code",
            "execution_count": 9,
            "metadata": {},
            "outputs": [],
            "source": "# define classification model\ndef classification_model():\n    # create model\n    model = Sequential()\n    model.add(Dense(num_pixels, activation='relu', input_shape=(num_pixels,)))\n    model.add(Dense(32, activation='relu'))\n    model.add(Dense(num_classes, activation='softmax'))\n    \n    \n    # compile model\n    model.compile(optimizer='adam', loss='categorical_crossentropy', metrics=['accuracy','mae','mse','mape','cosine'])\n    return model"
        },
        {
            "cell_type": "code",
            "execution_count": 10,
            "metadata": {},
            "outputs": [
                {
                    "name": "stdout",
                    "output_type": "stream",
                    "text": "WARNING:tensorflow:From /opt/conda/envs/Python36/lib/python3.6/site-packages/tensorflow/python/framework/op_def_library.py:263: colocate_with (from tensorflow.python.framework.ops) is deprecated and will be removed in a future version.\nInstructions for updating:\nColocations handled automatically by placer.\nWARNING:tensorflow:From /opt/conda/envs/Python36/lib/python3.6/site-packages/tensorflow/python/ops/math_ops.py:3066: to_int32 (from tensorflow.python.ops.math_ops) is deprecated and will be removed in a future version.\nInstructions for updating:\nUse tf.cast instead.\nTrain on 60000 samples, validate on 10000 samples\nEpoch 1/10\n - 618s - loss: 0.1999 - acc: 0.9401 - mean_absolute_error: 0.0196 - mean_squared_error: 0.0091 - mean_absolute_percentage_error: 9803414.3470 - cosine_proximity: -9.4799e-01 - val_loss: 0.1094 - val_acc: 0.9646 - val_mean_absolute_error: 0.0108 - val_mean_squared_error: 0.0053 - val_mean_absolute_percentage_error: 5424588.8209 - val_cosine_proximity: -9.7023e-01\nEpoch 2/10\n - 667s - loss: 0.0818 - acc: 0.9746 - mean_absolute_error: 0.0080 - mean_squared_error: 0.0039 - mean_absolute_percentage_error: 4006493.3998 - cosine_proximity: -9.7821e-01 - val_loss: 0.0746 - val_acc: 0.9777 - val_mean_absolute_error: 0.0072 - val_mean_squared_error: 0.0035 - val_mean_absolute_percentage_error: 3587638.2403 - val_cosine_proximity: -9.8051e-01\nEpoch 3/10\n - 687s - loss: 0.0536 - acc: 0.9826 - mean_absolute_error: 0.0053 - mean_squared_error: 0.0026 - mean_absolute_percentage_error: 2652041.6919 - cosine_proximity: -9.8553e-01 - val_loss: 0.0719 - val_acc: 0.9766 - val_mean_absolute_error: 0.0063 - val_mean_squared_error: 0.0034 - val_mean_absolute_percentage_error: 3128707.7468 - val_cosine_proximity: -9.8059e-01\nEpoch 4/10\n - 670s - loss: 0.0396 - acc: 0.9872 - mean_absolute_error: 0.0040 - mean_squared_error: 0.0020 - mean_absolute_percentage_error: 1986155.1460 - cosine_proximity: -9.8909e-01 - val_loss: 0.0827 - val_acc: 0.9774 - val_mean_absolute_error: 0.0056 - val_mean_squared_error: 0.0036 - val_mean_absolute_percentage_error: 2783339.4845 - val_cosine_proximity: -9.8028e-01\nEpoch 5/10\n - 668s - loss: 0.0313 - acc: 0.9902 - mean_absolute_error: 0.0030 - mean_squared_error: 0.0016 - mean_absolute_percentage_error: 1522528.4952 - cosine_proximity: -9.9152e-01 - val_loss: 0.0648 - val_acc: 0.9824 - val_mean_absolute_error: 0.0047 - val_mean_squared_error: 0.0028 - val_mean_absolute_percentage_error: 2335502.5520 - val_cosine_proximity: -9.8436e-01\nEpoch 6/10\n - 698s - loss: 0.0257 - acc: 0.9918 - mean_absolute_error: 0.0025 - mean_squared_error: 0.0013 - mean_absolute_percentage_error: 1242236.5038 - cosine_proximity: -9.9305e-01 - val_loss: 0.0804 - val_acc: 0.9786 - val_mean_absolute_error: 0.0050 - val_mean_squared_error: 0.0034 - val_mean_absolute_percentage_error: 2498216.4363 - val_cosine_proximity: -9.8141e-01\nEpoch 7/10\n - 688s - loss: 0.0204 - acc: 0.9934 - mean_absolute_error: 0.0020 - mean_squared_error: 0.0010 - mean_absolute_percentage_error: 1013535.5121 - cosine_proximity: -9.9437e-01 - val_loss: 0.0791 - val_acc: 0.9810 - val_mean_absolute_error: 0.0044 - val_mean_squared_error: 0.0031 - val_mean_absolute_percentage_error: 2197957.7017 - val_cosine_proximity: -9.8316e-01\nEpoch 8/10\n - 676s - loss: 0.0187 - acc: 0.9942 - mean_absolute_error: 0.0017 - mean_squared_error: 9.3011e-04 - mean_absolute_percentage_error: 866479.1734 - cosine_proximity: -9.9495e-01 - val_loss: 0.0985 - val_acc: 0.9772 - val_mean_absolute_error: 0.0051 - val_mean_squared_error: 0.0037 - val_mean_absolute_percentage_error: 2572382.3449 - val_cosine_proximity: -9.7968e-01\nEpoch 9/10\n - 694s - loss: 0.0168 - acc: 0.9945 - mean_absolute_error: 0.0015 - mean_squared_error: 8.3189e-04 - mean_absolute_percentage_error: 772054.2652 - cosine_proximity: -9.9544e-01 - val_loss: 0.0855 - val_acc: 0.9799 - val_mean_absolute_error: 0.0043 - val_mean_squared_error: 0.0032 - val_mean_absolute_percentage_error: 2174692.5711 - val_cosine_proximity: -9.8259e-01\nEpoch 10/10\n - 647s - loss: 0.0163 - acc: 0.9952 - mean_absolute_error: 0.0014 - mean_squared_error: 7.7930e-04 - mean_absolute_percentage_error: 707089.0494 - cosine_proximity: -9.9577e-01 - val_loss: 0.0978 - val_acc: 0.9799 - val_mean_absolute_error: 0.0045 - val_mean_squared_error: 0.0033 - val_mean_absolute_percentage_error: 2251853.6980 - val_cosine_proximity: -9.8183e-01\n"
                }
            ],
            "source": "# build the model\nmodel = classification_model()\n\n# fit the model\nhistory = model.fit(X_train, y_train, validation_data=(X_test, y_test), epochs=10, verbose=2)\n\n# evaluate the model\nscores = model.evaluate(X_test, y_test, verbose=0)"
        },
        {
            "cell_type": "code",
            "execution_count": 11,
            "metadata": {},
            "outputs": [
                {
                    "name": "stdout",
                    "output_type": "stream",
                    "text": "Accuracy: 0.9799% \n Error: 0.020100000000000007\n"
                }
            ],
            "source": "print('Accuracy: {}% \\n Error: {}'.format(scores[1], 1 - scores[1]))        "
        },
        {
            "cell_type": "code",
            "execution_count": 12,
            "metadata": {},
            "outputs": [],
            "source": "model.save('classification_model.h5')"
        },
        {
            "cell_type": "code",
            "execution_count": 13,
            "metadata": {},
            "outputs": [],
            "source": "from keras.models import load_model"
        },
        {
            "cell_type": "code",
            "execution_count": 14,
            "metadata": {},
            "outputs": [],
            "source": "pretrained_model = load_model('classification_model.h5')"
        },
        {
            "cell_type": "code",
            "execution_count": 20,
            "metadata": {},
            "outputs": [
                {
                    "data": {
                        "image/png": "[encoded data removed]",
                        "text/plain": "<Figure size 432x288 with 1 Axes>"
                    },
                    "metadata": {
                        "needs_background": "light"
                    },
                    "output_type": "display_data"
                },
                {
                    "data": {
                        "image/png": "[encoded data removed]",
                        "text/plain": "<Figure size 432x288 with 1 Axes>"
                    },
                    "metadata": {
                        "needs_background": "light"
                    },
                    "output_type": "display_data"
                }
            ],
            "source": "import matplotlib.pyplot as plt\nloss = history.history['loss']\nacc = history.history['mean_absolute_error']\nval_loss = history.history['val_loss']\nval_acc = history.history['val_mean_absolute_error']\nmape_loss=history.history['mean_absolute_percentage_error']\ncosine_los=history.history['cosine_proximity']\nplt.plot(history.history['mean_squared_error'], label = 'mean_squared_error')\nplt.plot(history.history['mean_absolute_error'], label = 'mean_absolute_error')\nplt.plot(history.history['mean_absolute_percentage_error'], label = 'mean_absolute_percentage_error')\nplt.plot(history.history['cosine_proximity'], label = 'cosine_proximity')\nplt.legend()\nplt.show()\nepochs = range(1, len(loss)+1)\nplt.plot(epochs, loss, 'ro', label='Training loss')\nplt.legend()\nplt.show()\n\ny_pred = model.predict(X_test)\n"
        },
        {
            "cell_type": "code",
            "execution_count": null,
            "metadata": {},
            "outputs": [],
            "source": "import numpy as np\nfrom sklearn.metrics import confusion_matrix\nfrom sklearn.metrics import accuracy_score\n\ny_prob = model.predict(X_test) \ny_classes_predict = y_prob.argmax(axis=-1)\ny_classes_real = [np.argmax(y, axis=None, out=None) for y in y_test]\n\nprint('Total accuracy:' ,(accuracy_score(y_classes_real,y_classes_predict)))\nconfusion_matrix(y_classes_real,y_classes_predict)"
        },
        {
            "cell_type": "code",
            "execution_count": 57,
            "metadata": {},
            "outputs": [
                {
                    "name": "stdout",
                    "output_type": "stream",
                    "text": "precision for each class: [0.98569969 0.9982238  0.98622047 0.97347741 0.98347107 0.96802646\n 0.97830579 0.9815534  0.97821577 0.96289062]\nrecall for each class: [0.98469388 0.99030837 0.97093023 0.98118812 0.9694501  0.98430493\n 0.98851775 0.98346304 0.96817248 0.97720515]\nfscore for each class: [0.98519653 0.99425033 0.97851562 0.97731755 0.97641026 0.97609783\n 0.98338525 0.98250729 0.97316821 0.96999508]\nsupport for each class: [ 980 1135 1032 1010  982  892  958 1028  974 1009]\n"
                }
            ],
            "source": "from sklearn.metrics import precision_recall_fscore_support as score\n\n\nprecision, recall, fscore, support = score(y_classes_real, y_classes_predict)\n\nprint('precision for each class: {}'.format(precision))\nprint('recall for each class: {}'.format(recall))\nprint('fscore for each class: {}'.format(fscore))\nprint('support for each class: {}'.format(support))"
        },
        {
            "cell_type": "code",
            "execution_count": null,
            "metadata": {},
            "outputs": [],
            "source": ""
        }
    ],
    "metadata": {
        "kernelspec": {
            "display_name": "Python 3.6",
            "language": "python",
            "name": "python3"
        }
    },
    "nbformat": 4,
    "nbformat_minor": 1
}