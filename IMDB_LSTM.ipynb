{
    "cells": [
        {
            "cell_type": "markdown",
            "metadata": {
                "collapsed": true
            },
            "source": "# LSTM model on the IMDB sentiment classification "
        },
        {
            "cell_type": "markdown",
            "metadata": {},
            "source": "## Reading Data and ETL"
        },
        {
            "cell_type": "code",
            "execution_count": 1,
            "metadata": {},
            "outputs": [
                {
                    "name": "stderr",
                    "output_type": "stream",
                    "text": "Using TensorFlow backend.\n"
                }
            ],
            "source": "from __future__ import print_function\n\nfrom keras.preprocessing import sequence\nfrom keras.models import Sequential\nfrom keras.layers import Dense, Embedding\nfrom keras.layers import LSTM\nfrom keras.datasets import imdb"
        },
        {
            "cell_type": "code",
            "execution_count": 2,
            "metadata": {},
            "outputs": [],
            "source": "max_features = 20000\n# cut texts after this number of words (among top max_features most common words)\nmaxlen = 80\nbatch_size = 32"
        },
        {
            "cell_type": "code",
            "execution_count": 3,
            "metadata": {},
            "outputs": [
                {
                    "name": "stdout",
                    "output_type": "stream",
                    "text": "Loading data...\n25000 train sequences\n25000 test sequences\n"
                }
            ],
            "source": "print('Loading data...')\n(x_train, y_train), (x_test, y_test) = imdb.load_data(num_words=max_features)\nprint(len(x_train), 'train sequences')\nprint(len(x_test), 'test sequences')"
        },
        {
            "cell_type": "code",
            "execution_count": 4,
            "metadata": {},
            "outputs": [
                {
                    "name": "stdout",
                    "output_type": "stream",
                    "text": "Pad sequences (samples x time)\nx_train shape: (25000, 80)\nx_test shape: (25000, 80)\n"
                }
            ],
            "source": "print('Pad sequences (samples x time)')\nx_train = sequence.pad_sequences(x_train, maxlen=maxlen)\nx_test = sequence.pad_sequences(x_test, maxlen=maxlen)\nprint('x_train shape:', x_train.shape)\nprint('x_test shape:', x_test.shape)"
        },
        {
            "cell_type": "markdown",
            "metadata": {},
            "source": "## Build a Neural Networ"
        },
        {
            "cell_type": "code",
            "execution_count": null,
            "metadata": {},
            "outputs": [
                {
                    "name": "stdout",
                    "output_type": "stream",
                    "text": "Build model...\nWARNING:tensorflow:From /opt/conda/envs/Python36/lib/python3.6/site-packages/tensorflow/python/framework/op_def_library.py:263: colocate_with (from tensorflow.python.framework.ops) is deprecated and will be removed in a future version.\nInstructions for updating:\nColocations handled automatically by placer.\nWARNING:tensorflow:From /opt/conda/envs/Python36/lib/python3.6/site-packages/keras/backend/tensorflow_backend.py:3445: calling dropout (from tensorflow.python.ops.nn_ops) with keep_prob is deprecated and will be removed in a future version.\nInstructions for updating:\nPlease use `rate` instead of `keep_prob`. Rate should be set to `rate = 1 - keep_prob`.\n"
                }
            ],
            "source": "print('Build model...')\nmodel = Sequential()\nmodel.add(Embedding(max_features, 128))\nmodel.add(LSTM(128, dropout=0.2, recurrent_dropout=0.2))\nmodel.add(Dense(1, activation='sigmoid'))\n\n# try using different optimizers and different optimizer configs\nmodel.compile(loss='binary_crossentropy',\n              optimizer='adam',\n              metrics=['accuracy','mae','mse','mape','cosine'])\n"
        },
        {
            "cell_type": "code",
            "execution_count": null,
            "metadata": {},
            "outputs": [
                {
                    "name": "stdout",
                    "output_type": "stream",
                    "text": "Train...\nWARNING:tensorflow:From /opt/conda/envs/Python36/lib/python3.6/site-packages/tensorflow/python/ops/math_ops.py:3066: to_int32 (from tensorflow.python.ops.math_ops) is deprecated and will be removed in a future version.\nInstructions for updating:\nUse tf.cast instead.\nTrain on 25000 samples, validate on 25000 samples\nEpoch 1/15\n25000/25000 [==============================] - 6733s 269ms/step - loss: 0.4586 - acc: 0.7828 - mean_absolute_error: 0.2996 - mean_squared_error: 0.1491 - mean_absolute_percentage_error: 151237381.6397 - cosine_proximity: -0.5000 - val_loss: 0.3978 - val_acc: 0.8311 - val_mean_absolute_error: 0.2206 - val_mean_squared_error: 0.1246 - val_mean_absolute_percentage_error: 130352467.3357 - val_cosine_proximity: -0.5000\nEpoch 2/15\n25000/25000 [==============================] - 4423s 177ms/step - loss: 0.2971 - acc: 0.8783 - mean_absolute_error: 0.1796 - mean_squared_error: 0.0896 - mean_absolute_percentage_error: 88685183.1616 - cosine_proximity: -0.5000 - val_loss: 0.3772 - val_acc: 0.8315 - val_mean_absolute_error: 0.2292 - val_mean_squared_error: 0.1187 - val_mean_absolute_percentage_error: 119474334.9274 - val_cosine_proximity: -0.5000\nEpoch 3/15\n25000/25000 [==============================] - 4352s 174ms/step - loss: 0.2185 - acc: 0.9139 - mean_absolute_error: 0.1301 - mean_squared_error: 0.0641 - mean_absolute_percentage_error: 65350221.6954 - cosine_proximity: -0.5000 - val_loss: 0.4524 - val_acc: 0.8238 - val_mean_absolute_error: 0.2058 - val_mean_squared_error: 0.1347 - val_mean_absolute_percentage_error: 136550484.3443 - val_cosine_proximity: -0.5000\nEpoch 4/15\n25000/25000 [==============================] - 3957s 158ms/step - loss: 0.1502 - acc: 0.9448 - mean_absolute_error: 0.0883 - mean_squared_error: 0.0426 - mean_absolute_percentage_error: 43866494.1939 - cosine_proximity: -0.5000 - val_loss: 0.4757 - val_acc: 0.8242 - val_mean_absolute_error: 0.2019 - val_mean_squared_error: 0.1345 - val_mean_absolute_percentage_error: 107078280.8182 - val_cosine_proximity: -0.5000\nEpoch 5/15\n25000/25000 [==============================] - 4107s 164ms/step - loss: 0.1130 - acc: 0.9583 - mean_absolute_error: 0.0656 - mean_squared_error: 0.0317 - mean_absolute_percentage_error: 32791185.8782 - cosine_proximity: -0.5000 - val_loss: 0.5389 - val_acc: 0.8240 - val_mean_absolute_error: 0.1926 - val_mean_squared_error: 0.1404 - val_mean_absolute_percentage_error: 106216272.9269 - val_cosine_proximity: -0.5000\nEpoch 6/15\n25000/25000 [==============================] - 1513s 61ms/step - loss: 0.0779 - acc: 0.9723 - mean_absolute_error: 0.0447 - mean_squared_error: 0.0213 - mean_absolute_percentage_error: 22116014.3272 - cosine_proximity: -0.5000 - val_loss: 0.6408 - val_acc: 0.8157 - val_mean_absolute_error: 0.1948 - val_mean_squared_error: 0.1517 - val_mean_absolute_percentage_error: 114721329.5642 - val_cosine_proximity: -0.5000\nEpoch 7/15\n25000/25000 [==============================] - 1525s 61ms/step - loss: 0.0550 - acc: 0.9805 - mean_absolute_error: 0.0319 - mean_squared_error: 0.0148 - mean_absolute_percentage_error: 16048026.3829 - cosine_proximity: -0.5000 - val_loss: 0.7776 - val_acc: 0.8186 - val_mean_absolute_error: 0.1874 - val_mean_squared_error: 0.1551 - val_mean_absolute_percentage_error: 105903778.3110 - val_cosine_proximity: -0.4999\nEpoch 8/15\n25000/25000 [==============================] - 1483s 59ms/step - loss: 0.0434 - acc: 0.9859 - mean_absolute_error: 0.0245 - mean_squared_error: 0.0113 - mean_absolute_percentage_error: 12325475.4125 - cosine_proximity: -0.5000 - val_loss: 0.8195 - val_acc: 0.8169 - val_mean_absolute_error: 0.1896 - val_mean_squared_error: 0.1589 - val_mean_absolute_percentage_error: 114565502.8250 - val_cosine_proximity: -0.4999\nEpoch 9/15\n25000/25000 [==============================] - 1421s 57ms/step - loss: 0.0348 - acc: 0.9888 - mean_absolute_error: 0.0194 - mean_squared_error: 0.0089 - mean_absolute_percentage_error: 9899235.0788 - cosine_proximity: -0.5000 - val_loss: 0.9550 - val_acc: 0.8132 - val_mean_absolute_error: 0.1899 - val_mean_squared_error: 0.1657 - val_mean_absolute_percentage_error: 100835352.6294 - val_cosine_proximity: -0.4997\nEpoch 10/15\n25000/25000 [==============================] - 1393s 56ms/step - loss: 0.0258 - acc: 0.9915 - mean_absolute_error: 0.0141 - mean_squared_error: 0.0064 - mean_absolute_percentage_error: 6979514.6296 - cosine_proximity: -0.5000 - val_loss: 0.9263 - val_acc: 0.8156 - val_mean_absolute_error: 0.1882 - val_mean_squared_error: 0.1641 - val_mean_absolute_percentage_error: 86812826.9361 - val_cosine_proximity: -0.4997\nEpoch 11/15\n25000/25000 [==============================] - 1412s 56ms/step - loss: 0.0227 - acc: 0.9928 - mean_absolute_error: 0.0126 - mean_squared_error: 0.0057 - mean_absolute_percentage_error: 6337623.8928 - cosine_proximity: -0.5000 - val_loss: 0.9214 - val_acc: 0.8098 - val_mean_absolute_error: 0.1960 - val_mean_squared_error: 0.1672 - val_mean_absolute_percentage_error: 94111052.1646 - val_cosine_proximity: -0.4996\nEpoch 12/15\n25000/25000 [==============================] - 1584s 63ms/step - loss: 0.0181 - acc: 0.9939 - mean_absolute_error: 0.0105 - mean_squared_error: 0.0046 - mean_absolute_percentage_error: 5300035.7684 - cosine_proximity: -0.5000 - val_loss: 1.0153 - val_acc: 0.8101 - val_mean_absolute_error: 0.1940 - val_mean_squared_error: 0.1697 - val_mean_absolute_percentage_error: 79003086.0862 - val_cosine_proximity: -0.4992\nEpoch 13/15\n25000/25000 [==============================] - 1397s 56ms/step - loss: 0.0137 - acc: 0.9960 - mean_absolute_error: 0.0075 - mean_squared_error: 0.0032 - mean_absolute_percentage_error: 3816624.6806 - cosine_proximity: -0.5000 - val_loss: 1.0752 - val_acc: 0.8070 - val_mean_absolute_error: 0.1972 - val_mean_squared_error: 0.1734 - val_mean_absolute_percentage_error: 68741654.4851 - val_cosine_proximity: -0.4981\nEpoch 14/15\n15616/25000 [=================>............] - ETA: 8:33 - loss: 0.0122 - acc: 0.9962 - mean_absolute_error: 0.0069 - mean_squared_error: 0.0031 - mean_absolute_percentage_error: 3319432.8160 - cosine_proximity: -0.4997"
                }
            ],
            "source": "print('Train...')\nhistory = model.fit(x_train, y_train,\n          batch_size=batch_size,\n          epochs=15,\n          validation_data=(x_test, y_test))\nscore, acc = model.evaluate(x_test, y_test,\n                            batch_size=batch_size)\nprint('Test score:', score)\nprint('Test accuracy:', acc)"
        },
        {
            "cell_type": "code",
            "execution_count": null,
            "metadata": {},
            "outputs": [],
            "source": "import matplotlib.pyplot as plt\nloss = history.history['loss']\nacc = history.history['mean_absolute_error']\nval_loss = history.history['val_loss']\nval_acc = history.history['val_mean_absolute_error']\nmape_loss=history.history['mean_absolute_percentage_error']\ncosine_los=history.history['cosine_proximity']\nplt.plot(history.history['mean_squared_error'], label = 'mean_squared_error')\nplt.plot(history.history['mean_absolute_error'], label = 'mean_absolute_error')\nplt.plot(history.history['mean_absolute_percentage_error'], label = 'mean_absolute_percentage_error')\nplt.plot(history.history['cosine_proximity'], label = 'cosine_proximity')\nplt.legend()\nplt.show()\nepochs = range(1, len(loss)+1)\nplt.plot(epochs, loss, 'ro', label='Training loss')\nplt.legend()\nplt.show()\n\ny_pred = model.predict(x_test)\n\nplt.plot(y_test, color = 'red', label = 'Real data')\nplt.plot(y_pred, color = 'blue', label = 'Predicted data')\nplt.title('Prediction')\nplt.legend()\nplt.show()"
        },
        {
            "cell_type": "code",
            "execution_count": null,
            "metadata": {},
            "outputs": [],
            "source": "import numpy as np\nfrom sklearn.metrics import confusion_matrix\nfrom sklearn.metrics import accuracy_score\n\ny_prob = model.predict(x_test) \ny_classes_predict = y_prob.argmax(axis=-1)\ny_classes_real = [np.argmax(y, axis=None, out=None) for y in y_test]\n\nprint('Total accuracy:' ,(accuracy_score(y_classes_real,y_classes_predict)))\nconfusion_matrix(y_classes_real,y_classes_predict)"
        },
        {
            "cell_type": "code",
            "execution_count": null,
            "metadata": {},
            "outputs": [],
            "source": "from sklearn.metrics import precision_recall_fscore_support as score\n\n\nprecision, recall, fscore, support = score(y_classes_real, y_classes_predict)\n\nprint('precision for each class: {}'.format(precision))\nprint('recall for each class: {}'.format(recall))\nprint('fscore for each class: {}'.format(fscore))\nprint('support for each class: {}'.format(support))"
        },
        {
            "cell_type": "code",
            "execution_count": null,
            "metadata": {},
            "outputs": [],
            "source": ""
        }
    ],
    "metadata": {
        "kernelspec": {
            "display_name": "Python 3.6",
            "language": "python",
            "name": "python3"
        },
        "language_info": {
            "codemirror_mode": {
                "name": "ipython",
                "version": 3
            },
            "file_extension": ".py",
            "mimetype": "text/x-python",
            "name": "python",
            "nbconvert_exporter": "python",
            "pygments_lexer": "ipython3",
            "version": "3.6.9"
        }
    },
    "nbformat": 4,
    "nbformat_minor": 1
}