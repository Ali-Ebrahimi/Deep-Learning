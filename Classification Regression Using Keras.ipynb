{
    "cells": [
        {
            "cell_type": "markdown",
            "metadata": {},
            "source": "# Classification Regression Using Keras"
        },
        {
            "cell_type": "markdown",
            "metadata": {},
            "source": "## Reading Data and ETL"
        },
        {
            "cell_type": "code",
            "execution_count": 1,
            "metadata": {},
            "outputs": [
                {
                    "name": "stderr",
                    "output_type": "stream",
                    "text": "Using TensorFlow backend.\n"
                }
            ],
            "source": "import keras\n\nfrom keras.models import Sequential\nfrom keras.layers import Dense\nfrom keras.utils import to_categorical"
        },
        {
            "cell_type": "code",
            "execution_count": 2,
            "metadata": {},
            "outputs": [],
            "source": "import matplotlib.pyplot as plt"
        },
        {
            "cell_type": "code",
            "execution_count": 3,
            "metadata": {},
            "outputs": [],
            "source": "# import the data\nfrom keras.datasets import mnist\n\n# read the data\n(X_train, y_train), (X_test, y_test) = mnist.load_data()"
        },
        {
            "cell_type": "code",
            "execution_count": 4,
            "metadata": {},
            "outputs": [
                {
                    "data": {
                        "text/plain": "(60000, 28, 28)"
                    },
                    "execution_count": 4,
                    "metadata": {},
                    "output_type": "execute_result"
                }
            ],
            "source": "X_train.shape"
        },
        {
            "cell_type": "code",
            "execution_count": 5,
            "metadata": {},
            "outputs": [
                {
                    "data": {
                        "text/plain": "<matplotlib.image.AxesImage at 0x7f54af826a90>"
                    },
                    "execution_count": 5,
                    "metadata": {},
                    "output_type": "execute_result"
                },
                {
                    "data": {
                        "image/png": "[encoded data removed]",
                        "text/plain": "<Figure size 432x288 with 1 Axes>"
                    },
                    "metadata": {
                        "needs_background": "light"
                    },
                    "output_type": "display_data"
                }
            ],
            "source": "plt.imshow(X_train[0])"
        },
        {
            "cell_type": "code",
            "execution_count": 6,
            "metadata": {},
            "outputs": [],
            "source": "# flatten images into one-dimensional vector\n\nnum_pixels = X_train.shape[1] * X_train.shape[2] # find size of one-dimensional vector\n\nX_train = X_train.reshape(X_train.shape[0], num_pixels).astype('float32') # flatten training images\nX_test = X_test.reshape(X_test.shape[0], num_pixels).astype('float32') # flatten test images"
        },
        {
            "cell_type": "code",
            "execution_count": 7,
            "metadata": {},
            "outputs": [],
            "source": "# normalize inputs from 0-255 to 0-1\nX_train = X_train / 255\nX_test = X_test / 255"
        },
        {
            "cell_type": "code",
            "execution_count": 8,
            "metadata": {},
            "outputs": [
                {
                    "name": "stdout",
                    "output_type": "stream",
                    "text": "10\n"
                }
            ],
            "source": "# one hot encode outputs\ny_train = to_categorical(y_train)\ny_test = to_categorical(y_test)\n\nnum_classes = y_test.shape[1]\nprint(num_classes)"
        },
        {
            "cell_type": "markdown",
            "metadata": {},
            "source": "# Build a Neural Network"
        },
        {
            "cell_type": "code",
            "execution_count": 11,
            "metadata": {},
            "outputs": [],
            "source": "# define classification model\ndef classification_model():\n    # create model\n    model = Sequential()\n    model.add(Dense(num_pixels, activation='relu', input_shape=(num_pixels,)))\n    model.add(Dense(32, activation='relu'))\n    model.add(Dense(num_classes, activation='softmax'))\n    \n    \n    # compile model\n    model.compile(optimizer='adam', loss='categorical_crossentropy', metrics=['accuracy'])\n    return model"
        },
        {
            "cell_type": "code",
            "execution_count": 12,
            "metadata": {},
            "outputs": [
                {
                    "name": "stdout",
                    "output_type": "stream",
                    "text": "Train on 60000 samples, validate on 10000 samples\nEpoch 1/10\n - 153s - loss: 0.2039 - acc: 0.9384 - val_loss: 0.0914 - val_acc: 0.9702\nEpoch 2/10\n - 147s - loss: 0.0798 - acc: 0.9752 - val_loss: 0.1010 - val_acc: 0.9692\nEpoch 3/10\n - 75s - loss: 0.0543 - acc: 0.9829 - val_loss: 0.0818 - val_acc: 0.9737\nEpoch 4/10\n - 71s - loss: 0.0416 - acc: 0.9866 - val_loss: 0.0822 - val_acc: 0.9751\nEpoch 5/10\n - 72s - loss: 0.0313 - acc: 0.9900 - val_loss: 0.0823 - val_acc: 0.9768\nEpoch 6/10\n - 81s - loss: 0.0260 - acc: 0.9920 - val_loss: 0.0733 - val_acc: 0.9796\nEpoch 7/10\n - 115s - loss: 0.0220 - acc: 0.9925 - val_loss: 0.0839 - val_acc: 0.9782\nEpoch 8/10\n - 181s - loss: 0.0202 - acc: 0.9935 - val_loss: 0.0744 - val_acc: 0.9830\nEpoch 9/10\n - 175s - loss: 0.0172 - acc: 0.9943 - val_loss: 0.0798 - val_acc: 0.9820\nEpoch 10/10\n - 265s - loss: 0.0144 - acc: 0.9952 - val_loss: 0.0890 - val_acc: 0.9803\n"
                }
            ],
            "source": "# build the model\nmodel = classification_model()\n\n# fit the model\nmodel.fit(X_train, y_train, validation_data=(X_test, y_test), epochs=10, verbose=2)\n\n# evaluate the model\nscores = model.evaluate(X_test, y_test, verbose=0)"
        },
        {
            "cell_type": "code",
            "execution_count": 13,
            "metadata": {},
            "outputs": [
                {
                    "name": "stdout",
                    "output_type": "stream",
                    "text": "Accuracy: 0.9803% \n Error: 0.01970000000000005\n"
                }
            ],
            "source": "print('Accuracy: {}% \\n Error: {}'.format(scores[1], 1 - scores[1]))        "
        },
        {
            "cell_type": "code",
            "execution_count": 14,
            "metadata": {},
            "outputs": [],
            "source": "model.save('classification_model.h5')"
        },
        {
            "cell_type": "code",
            "execution_count": 15,
            "metadata": {},
            "outputs": [],
            "source": "from keras.models import load_model"
        },
        {
            "cell_type": "code",
            "execution_count": 16,
            "metadata": {},
            "outputs": [],
            "source": "pretrained_model = load_model('classification_model.h5')"
        },
        {
            "cell_type": "code",
            "execution_count": null,
            "metadata": {},
            "outputs": [],
            "source": ""
        }
    ],
    "metadata": {
        "kernelspec": {
            "display_name": "Python 3.6",
            "language": "python",
            "name": "python3"
        },
        "language_info": {
            "codemirror_mode": {
                "name": "ipython",
                "version": 3
            },
            "file_extension": ".py",
            "mimetype": "text/x-python",
            "name": "python",
            "nbconvert_exporter": "python",
            "pygments_lexer": "ipython3",
            "version": "3.6.9"
        }
    },
    "nbformat": 4,
    "nbformat_minor": 1
}